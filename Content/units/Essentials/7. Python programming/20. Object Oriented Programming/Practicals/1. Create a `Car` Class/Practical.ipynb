{
  "cells": [
    {
      "cell_type": "markdown",
      "id": "84369184",
      "metadata": {
        "id": "84369184"
      },
      "source": [
        "# Create a `Car` Class"
      ]
    },
    {
      "cell_type": "markdown",
      "id": "a7c2f870",
      "metadata": {
        "id": "a7c2f870"
      },
      "source": [
        "#### 1. Create a `Car` class"
      ]
    },
    {
      "cell_type": "code",
      "execution_count": 5,
      "id": "ca65b59f",
      "metadata": {
        "id": "ca65b59f"
      },
      "outputs": [],
      "source": [
        "import datetime\n",
        "class Car:\n",
        "  def __init__(self, model, year=datetime.date.today().year, miles_driven=0):\n",
        "      self.model = model\n",
        "      self.year = year\n",
        "      self.miles_driven = miles_driven"
      ]
    },
    {
      "cell_type": "markdown",
      "id": "34900e8d",
      "metadata": {
        "id": "34900e8d"
      },
      "source": [
        "#### 2. Define the constructor for the class:\n",
        "- It takes in two arguments (other than `self`), and assign their values as attributes of the instance:\n",
        "    - One called `model` (e.g. Tesla), which has no default\n",
        "    - One called `year`, which is an integer, which defaults to the current year (just hard code the current year in)\n",
        "- It also defines a new attribute (remember that is not passed as an argument):\n",
        "     - One called `miles_driven`, which is set to zero"
      ]
    },
    {
      "cell_type": "code",
      "execution_count": 6,
      "id": "c01f2310",
      "metadata": {
        "id": "c01f2310"
      },
      "outputs": [],
      "source": [
        "import datetime\n",
        "class Car:\n",
        "  def __init__(self, model, year=datetime.date.today().year, miles_driven=0):\n",
        "      self.model = model\n",
        "      self.year = year\n",
        "      self.miles_driven = miles_driven"
      ]
    },
    {
      "cell_type": "markdown",
      "id": "4e7d63b5",
      "metadata": {
        "id": "4e7d63b5"
      },
      "source": [
        "#### 3. Create a method called `drive`\n",
        "\n",
        "- It prints \"vroom\" and increment the instance's `miles_driven` attribute by 1"
      ]
    },
    {
      "cell_type": "code",
      "execution_count": 7,
      "id": "b4f31c34",
      "metadata": {
        "id": "b4f31c34"
      },
      "outputs": [],
      "source": [
        "import datetime\n",
        "class Car:\n",
        "  def __init__(self, model, year=datetime.date.today().year, miles_driven=0):\n",
        "      self.model = model\n",
        "      self.year = year\n",
        "      self.miles_driven = miles_driven\n",
        "  def drive(self):\n",
        "      print(\"vrooom\")\n",
        "      self.miles_driven += 1"
      ]
    },
    {
      "cell_type": "markdown",
      "id": "f6fdabf4",
      "metadata": {
        "id": "f6fdabf4"
      },
      "source": [
        "#### 4. Create a method called `info`\n",
        "\n",
        "- It prints the number of miles driven, the model name and the year"
      ]
    },
    {
      "cell_type": "code",
      "execution_count": 8,
      "id": "0807d613",
      "metadata": {
        "id": "0807d613"
      },
      "outputs": [],
      "source": [
        "import datetime\n",
        "class Car:\n",
        "  def __init__(self, model, year=datetime.date.today().year, miles_driven=0):\n",
        "      self.model = model\n",
        "      self.year = year\n",
        "      self.miles_driven = miles_driven\n",
        "  def drive(self):\n",
        "      print(\"vrooom\")\n",
        "      self.miles_driven += 1\n",
        "  def info(self):\n",
        "      print(f\"Miles Driven: {self.miles_driven}\")\n",
        "      print(f\"Model: {self.model}\")\n",
        "      print(f\"Year: {self.year}\")"
      ]
    },
    {
      "cell_type": "markdown",
      "id": "1954b876",
      "metadata": {
        "id": "1954b876"
      },
      "source": [
        "#### 5. Initialiase the class and call all the methods\n",
        "\n",
        "- Give the instance the model name \"Tesla\" and the year 2019.\n",
        "- Call the `drive` method 5 times\n",
        "- Call the `info` method. It should print something like \"5 miles driven, Tesla, 2019\"\n"
      ]
    },
    {
      "cell_type": "code",
      "execution_count": 9,
      "id": "0a51d328",
      "metadata": {
        "id": "0a51d328",
        "outputId": "115bcf97-9b4a-4b1b-e83f-1fa913b8939a",
        "colab": {
          "base_uri": "https://localhost:8080/"
        }
      },
      "outputs": [
        {
          "output_type": "stream",
          "name": "stdout",
          "text": [
            "vroom\n",
            "vroom\n",
            "vroom\n",
            "vroom\n",
            "vroom\n",
            "5 miles driven, Tesla, 2019\n"
          ]
        }
      ],
      "source": [
        "import datetime\n",
        "\n",
        "class Car:\n",
        "    def __init__(self, model, year=datetime.date.today().year, miles_driven=0):\n",
        "        self.model = model\n",
        "        self.year = year\n",
        "        self.miles_driven = miles_driven\n",
        "\n",
        "    def drive(self):\n",
        "        print(\"vroom\")\n",
        "        self.miles_driven += 1\n",
        "\n",
        "    def info(self):\n",
        "        print(f\"{self.miles_driven} miles driven, {self.model}, {self.year}\")\n",
        "\n",
        "# Initialize the class with model \"Tesla\" and year 2019\n",
        "my_car = Car(model=\"Tesla\", year=2019)\n",
        "\n",
        "# Call the drive method 5 times\n",
        "for _ in range(5):\n",
        "    my_car.drive()\n",
        "\n",
        "# Call the info method\n",
        "my_car.info()\n"
      ]
    }
  ],
  "metadata": {
    "kernelspec": {
      "display_name": "content-projects_new",
      "language": "python",
      "name": "python3"
    },
    "language_info": {
      "name": "python",
      "version": "3.10.8 (main, Nov 24 2022, 14:13:03) [GCC 11.2.0]"
    },
    "vscode": {
      "interpreter": {
        "hash": "4b961f8166aad6ccb4cf65d0f9c742ef9c6c23ffe83ad932438cd83ed96aebaf"
      }
    },
    "colab": {
      "provenance": []
    }
  },
  "nbformat": 4,
  "nbformat_minor": 5
}