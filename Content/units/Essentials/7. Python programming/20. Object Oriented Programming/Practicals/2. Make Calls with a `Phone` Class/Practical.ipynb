{
  "cells": [
    {
      "cell_type": "markdown",
      "id": "6c985f11",
      "metadata": {
        "id": "6c985f11"
      },
      "source": [
        "# Make Calls with a `Phone` Class"
      ]
    },
    {
      "cell_type": "markdown",
      "id": "178a4f6d",
      "metadata": {
        "id": "178a4f6d"
      },
      "source": [
        "#### 1. Create a `Phone` class"
      ]
    },
    {
      "cell_type": "code",
      "execution_count": 4,
      "id": "681d8719",
      "metadata": {
        "id": "681d8719"
      },
      "outputs": [],
      "source": [
        "class Phone:\n",
        "  def __init__(self, number, balance=20):\n",
        "    self.number = number\n",
        "    self.balance = balance"
      ]
    },
    {
      "cell_type": "markdown",
      "id": "e78a39b3",
      "metadata": {
        "id": "e78a39b3"
      },
      "source": [
        "#### 2. The class takes two arguments:\n",
        "\n",
        "- One called `number` (e.g. 07777777777), which has no default. This is the phone number of the phone and will be used as an attribute\n",
        "- One called `balance`, which is an integer, which defaults to 20. This is the balance of the phone and will be used as an attribute\n"
      ]
    },
    {
      "cell_type": "code",
      "execution_count": 5,
      "id": "7c587309",
      "metadata": {
        "id": "7c587309"
      },
      "outputs": [],
      "source": [
        "class Phone:\n",
        "  def __init__(self, number, balance=20):\n",
        "    self.number = number\n",
        "    self.balance = balance"
      ]
    },
    {
      "cell_type": "markdown",
      "id": "83615162",
      "metadata": {
        "id": "83615162"
      },
      "source": [
        "#### 3. Create a method called `make_call`\n",
        "\n",
        "- It takes two arguments:\n",
        "    - One called `number` (e.g. 07777777777), which has no default. This is the phone number of the person being called\n",
        "    - One called `duration`, which is an integer, which defaults to 1. This is the duration of the call in minutes\n",
        "- Inside the method, check if the balance is greater than or equal to the duration of the call. If it is, then:\n",
        "    - Print \"Calling {number} for {duration} minutes\"\n",
        "    - Subtract the duration from the balance\n",
        "    - If the balance is not greater than or equal to the duration of the call, then:\n",
        "        - Print \"Insufficient balance to make call\"\n",
        "    "
      ]
    },
    {
      "cell_type": "code",
      "execution_count": 1,
      "id": "2da52eeb",
      "metadata": {
        "id": "2da52eeb",
        "outputId": "1362f1cc-9586-4310-8029-2322c06f49e3",
        "colab": {
          "base_uri": "https://localhost:8080/"
        }
      },
      "outputs": [
        {
          "output_type": "stream",
          "name": "stdout",
          "text": [
            "Calling 08888888888 for 5 minutes.\n",
            "Insufficient balance to make call\n"
          ]
        }
      ],
      "source": [
        "class Phone:\n",
        "    def __init__(self, number, balance=20):\n",
        "        self.number = number\n",
        "        self.balance = balance\n",
        "\n",
        "    def make_call(self, number, duration=1):\n",
        "        if self.balance >= duration:\n",
        "            print(f\"Calling {number} for {duration} minutes.\")\n",
        "            self.balance -= duration\n",
        "        else:\n",
        "            print(\"Insufficient balance to make call\")\n",
        "\n",
        "# Example usage\n",
        "my_phone = Phone(number=\"07777777777\")\n",
        "\n",
        "my_phone.make_call(\"08888888888\", duration=5)\n",
        "my_phone.make_call(\"09999999999\", duration=25)  # This will print \"Insufficient balance to make call.\"\n",
        "\n"
      ]
    },
    {
      "cell_type": "markdown",
      "id": "c898f75c",
      "metadata": {
        "id": "c898f75c"
      },
      "source": [
        "#### 4. Create a method called `info`\n",
        "- It prints the phone number and the balance"
      ]
    },
    {
      "cell_type": "code",
      "execution_count": 2,
      "id": "38c9d8de",
      "metadata": {
        "id": "38c9d8de",
        "outputId": "f6803dfe-4768-48cf-d8f9-06098e9530ba",
        "colab": {
          "base_uri": "https://localhost:8080/"
        }
      },
      "outputs": [
        {
          "output_type": "stream",
          "name": "stdout",
          "text": [
            "Calling 08888888888 for 5 minutes.\n",
            "Phone Number: 07777777777\n",
            "Balance: 15 units\n"
          ]
        }
      ],
      "source": [
        "class Phone:\n",
        "    def __init__(self, number, balance=20):\n",
        "        self.number = number\n",
        "        self.balance = balance\n",
        "\n",
        "    def make_call(self, number, duration=1):\n",
        "        if self.balance >= duration:\n",
        "            print(f\"Calling {number} for {duration} minutes.\")\n",
        "            self.balance -= duration\n",
        "        else:\n",
        "            print(\"Insufficient balance to make call\")\n",
        "\n",
        "    def info(self):\n",
        "        print(f\"Phone Number: {self.number}\")\n",
        "        print(f\"Balance: {self.balance} units\")\n",
        "\n",
        "# Example usage\n",
        "my_phone = Phone(number=\"07777777777\")\n",
        "\n",
        "my_phone.make_call(\"08888888888\", duration=5)\n",
        "my_phone.info()\n"
      ]
    }
  ],
  "metadata": {
    "kernelspec": {
      "display_name": "content-projects_new",
      "language": "python",
      "name": "python3"
    },
    "language_info": {
      "name": "python",
      "version": "3.10.8 (main, Nov 24 2022, 14:13:03) [GCC 11.2.0]"
    },
    "vscode": {
      "interpreter": {
        "hash": "4b961f8166aad6ccb4cf65d0f9c742ef9c6c23ffe83ad932438cd83ed96aebaf"
      }
    },
    "colab": {
      "provenance": []
    }
  },
  "nbformat": 4,
  "nbformat_minor": 5
}